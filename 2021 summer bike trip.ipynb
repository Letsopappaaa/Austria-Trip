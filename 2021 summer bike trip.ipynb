{
 "cells": [
  {
   "cell_type": "markdown",
   "id": "72013838",
   "metadata": {},
   "source": [
    "# Background/Story\n",
    "\n",
    "Pretty much each summer has to have at least one bike-adventure, however short it might be!\n",
    "\n",
    "In 2021 I was planning to visit my parents in Austria, and bike there from Berlin for fun! As usual I am much less prepared than I should be: no exact route, no idea where I am going to sleep, how far I will go that day, or how many mountains I have to painstakingly climb. This is just how I like to do my trips (or the only way I know how).\n",
    "\n",
    "Possibly the most fun part of this trip was being lost at dawn in a forest somewhere in Thüringen. I was getting desperate to find a place to put my tent down, and all of a sudden an old man with a leather jacket appears from the forest, on his motorbike. Ha has a huge plastic tub sticking out from the side of a compartment, which I have later learned to be full to the brim with blueberries!!!\n",
    "Anyways, he starts talking to me, and I barely even understand what he is saying (I'm not a native German speaker). In the end he invites me to his place, a couple kilometers back on the road the way I came from. We share a humble dinner, drink some beer and discuss things in absolute broken(me) and harshly dialectic(him) German. That was the night I had the best sleep on the trip, on a strip of flat ground on an otherwise completely hilly terrain, in the company of some friendly ducks.\n",
    "\n",
    "Disaster struck on the morning of day 4, as I was shuffling in my tent I made just one wrong move and I completely pulled a muscle in my neck. At first I thought I could shake it off (bad idea) and I started off the day as usual. After the first 14% hill climb I knew I f***'ed up, wich dull pain in my neck, and not being able to turn it in either direction. I knew it was super dangerous to ride this way and possibly really bad for my neck, so I aimed for the closest town, and stayed in a hotel for the day.\n",
    "\n",
    "Next morning I had enough, and since it would take me several days to heal from this injury, I decided to take the train down to Austria, meet up with my parents and recover here instead."
   ]
  },
  {
   "cell_type": "markdown",
   "id": "88f7a25d",
   "metadata": {},
   "source": [
    "# Data\n",
    "\n",
    "I was recording my route every day with Strava, and used this single source for my little dashboard. The standard GPX info that you can download from Strava includes timestamps and X;Y coordinates only. All other data was calculated/queried.\n",
    "\n",
    "When I initially imported all the data to Tableau, I had way too many datapoints which caused the program to be incredibly slow. I had to downsample the data somehow. I used GPSBabel to simplify my GPS datapoints from ~60k to ~20k. In the end, this meant a resolution of 1 datapoint/30 meters, on average. Of course the downsampling algorithem is quite smart, and preserves most of the detail in the route data. I have also used this tool to general estimated speed and distance data.\n",
    "\n",
    "I have done some minor data processing in Excel, date formatting etc, then created the following dashboard:"
   ]
  },
  {
   "cell_type": "code",
   "execution_count": 10,
   "id": "1ab96c55",
   "metadata": {},
   "outputs": [
    {
     "data": {
      "text/html": [
       "<div class='tableauPlaceholder' id='viz1632085683158' style='position: relative'>\n",
       "<noscript><a href='#'><img alt='Dashboard 1 ' src='https:&#47;&#47;public.tableau.com&#47;static&#47;images&#47;Su&#47;SummerTrip__&#47;Dashboard1&#47;1_rss.png' style='border: none' /></a></noscript><object class='tableauViz'  style='display:none;'><param name='host_url' value='https%3A%2F%2Fpublic.tableau.com%2F' /> <param name='embed_code_version' value='3' /> <param name='site_root' value='' /><param name='name' value='SummerTrip__&#47;Dashboard1' /><param name='tabs' value='no' /><param name='toolbar' value='yes' /><param name='static_image' value='https:&#47;&#47;public.tableau.com&#47;static&#47;images&#47;Su&#47;SummerTrip__&#47;Dashboard1&#47;1.png' /> <param name='animate_transition' value='yes' /><param name='display_static_image' value='yes' /><param name='display_spinner' value='yes' /><param name='display_overlay' value='yes' /><param name='display_count' value='yes' /><param name='language' value='en-US' /><param name='filter' value='publish=yes' /></object></div>                \n",
       "<script type='text/javascript'>                    var divElement = document.getElementById('viz1632085683158');                    var vizElement = divElement.getElementsByTagName('object')[0];                    if ( divElement.offsetWidth > 800 ) { vizElement.style.minWidth='800px';vizElement.style.maxWidth='950px';vizElement.style.width='120%';vizElement.style.minHeight='900px';vizElement.style.maxHeight='1600px';vizElement.style.height=(divElement.offsetWidth)+'px';} else if ( divElement.offsetWidth > 500 ) { vizElement.style.minWidth='420px';vizElement.style.maxWidth='650px';vizElement.style.width='100%';vizElement.style.minHeight='587px';vizElement.style.maxHeight='887px';vizElement.style.height=(divElement.offsetWidth*0.75)+'px';} else { vizElement.style.width='100%';vizElement.style.height='1427px';}                     var scriptElement = document.createElement('script');                    scriptElement.src = 'https://public.tableau.com/javascripts/api/viz_v1.js';                    vizElement.parentNode.insertBefore(scriptElement, vizElement);                </script>\n",
       "<script type='text/javascript'>  var divElement = document.getElementById('viz-client-container'); divElement.style.Width=\"900px\"  </script>\n"
      ],
      "text/plain": [
       "<IPython.core.display.HTML object>"
      ]
     },
     "metadata": {},
     "output_type": "display_data"
    }
   ],
   "source": [
    "%%HTML\n",
    "<div class='tableauPlaceholder' id='viz1632085683158' style='position: relative'>\n",
    "<noscript><a href='#'><img alt='Dashboard 1 ' src='https:&#47;&#47;public.tableau.com&#47;static&#47;images&#47;Su&#47;SummerTrip__&#47;Dashboard1&#47;1_rss.png' style='border: none' /></a></noscript><object class='tableauViz'  style='display:none;'><param name='host_url' value='https%3A%2F%2Fpublic.tableau.com%2F' /> <param name='embed_code_version' value='3' /> <param name='site_root' value='' /><param name='name' value='SummerTrip__&#47;Dashboard1' /><param name='tabs' value='no' /><param name='toolbar' value='yes' /><param name='static_image' value='https:&#47;&#47;public.tableau.com&#47;static&#47;images&#47;Su&#47;SummerTrip__&#47;Dashboard1&#47;1.png' /> <param name='animate_transition' value='yes' /><param name='display_static_image' value='yes' /><param name='display_spinner' value='yes' /><param name='display_overlay' value='yes' /><param name='display_count' value='yes' /><param name='language' value='en-US' /><param name='filter' value='publish=yes' /></object></div>                \n",
    "<script type='text/javascript'>                    var divElement = document.getElementById('viz1632085683158');                    var vizElement = divElement.getElementsByTagName('object')[0];                    if ( divElement.offsetWidth > 800 ) { vizElement.style.minWidth='800px';vizElement.style.maxWidth='950px';vizElement.style.width='120%';vizElement.style.minHeight='900px';vizElement.style.maxHeight='1600px';vizElement.style.height=(divElement.offsetWidth)+'px';} else if ( divElement.offsetWidth > 500 ) { vizElement.style.minWidth='420px';vizElement.style.maxWidth='650px';vizElement.style.width='100%';vizElement.style.minHeight='587px';vizElement.style.maxHeight='887px';vizElement.style.height=(divElement.offsetWidth*0.75)+'px';} else { vizElement.style.width='100%';vizElement.style.height='1427px';}                     var scriptElement = document.createElement('script');                    scriptElement.src = 'https://public.tableau.com/javascripts/api/viz_v1.js';                    vizElement.parentNode.insertBefore(scriptElement, vizElement);                </script>"
   ]
  }
 ],
 "metadata": {
  "kernelspec": {
   "display_name": "Python 3 (ipykernel)",
   "language": "python",
   "name": "python3"
  },
  "language_info": {
   "codemirror_mode": {
    "name": "ipython",
    "version": 3
   },
   "file_extension": ".py",
   "mimetype": "text/x-python",
   "name": "python",
   "nbconvert_exporter": "python",
   "pygments_lexer": "ipython3",
   "version": "3.9.6"
  }
 },
 "nbformat": 4,
 "nbformat_minor": 5
}
